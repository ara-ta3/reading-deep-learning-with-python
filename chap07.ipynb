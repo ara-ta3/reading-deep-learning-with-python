{
 "cells": [
  {
   "cell_type": "markdown",
   "metadata": {},
   "source": [
    "# 7章 畳み込みニューラルネット\n",
    "\n",
    "畳み込みニューラルネット - convolutional neural network - CNN  \n",
    "CNNの場合、Convolutionレイヤ(畳み込み層)とPoolingレイヤ(プーリング層)がある  \n",
    "前の章でやったのは\n",
    "\n",
    "Affine -> ReLU -> Affine -> ReLU -> ... -> Affine ->Softmax  \n",
    "\n",
    "CNNの場合は  \n",
    "\n",
    "Conv -> ReLU -> Pooling -> ... -> Conv -> ReLU -> Affine -> Softmax  \n",
    "\n",
    "みたいな感じ  "
   ]
  },
  {
   "cell_type": "code",
   "execution_count": null,
   "metadata": {
    "collapsed": true
   },
   "outputs": [],
   "source": []
  }
 ],
 "metadata": {
  "kernelspec": {
   "display_name": "Python 3",
   "language": "python",
   "name": "python3"
  },
  "language_info": {
   "codemirror_mode": {
    "name": "ipython",
    "version": 3
   },
   "file_extension": ".py",
   "mimetype": "text/x-python",
   "name": "python",
   "nbconvert_exporter": "python",
   "pygments_lexer": "ipython3",
   "version": "3.5.2"
  }
 },
 "nbformat": 4,
 "nbformat_minor": 2
}
